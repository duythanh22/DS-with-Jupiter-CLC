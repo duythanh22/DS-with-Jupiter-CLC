{
 "cells": [
  {
   "cell_type": "code",
   "execution_count": 1,
   "id": "3a567f97",
   "metadata": {},
   "outputs": [],
   "source": [
    "### import package\n",
    "\n",
    "import numpy as np\n"
   ]
  },
  {
   "cell_type": "markdown",
   "id": "0c26eac8",
   "metadata": {},
   "source": [
    "### Numpy array"
   ]
  },
  {
   "cell_type": "code",
   "execution_count": 5,
   "id": "40eb90c4",
   "metadata": {},
   "outputs": [
    {
     "name": "stdout",
     "output_type": "stream",
     "text": [
      "[55 60 45]\n",
      "[ 6  7 10]\n",
      "[9.16666667 8.57142857 4.5       ]\n"
     ]
    }
   ],
   "source": [
    "distance = [55, 60, 45]\n",
    "speed = [6, 7, 10]\n",
    "dist = np.array(distance)\n",
    "print(dist)\n",
    "spd = np.array(speed)\n",
    "print(spd)\n",
    "\n",
    "time = dist/spd\n",
    "print(time)"
   ]
  },
  {
   "cell_type": "markdown",
   "id": "8c8b3e23",
   "metadata": {},
   "source": [
    "### Numpy array atributes"
   ]
  },
  {
   "cell_type": "code",
   "execution_count": 8,
   "id": "2f1b686c",
   "metadata": {},
   "outputs": [
    {
     "name": "stdout",
     "output_type": "stream",
     "text": [
      "data of type array:  float64\n",
      "no. of dimensions:  1\n",
      "size of dimension:  (3,)\n",
      "total size of array:  3\n"
     ]
    }
   ],
   "source": [
    "## kieu du  lieu cua array\n",
    "print(\"data of type array: \", time.dtype)\n",
    "\n",
    "## chieu cua array\n",
    "print('no. of dimensions: ', time.ndim)\n",
    "\n",
    "## kich co cua tung chieu trong array\n",
    "print('size of dimension: ', time.shape)\n",
    "\n",
    "## \n",
    "print(\"total size of array: \", time.size)"
   ]
  },
  {
   "cell_type": "markdown",
   "id": "65323833",
   "metadata": {},
   "source": [
    "### Creating numpy array"
   ]
  },
  {
   "cell_type": "code",
   "execution_count": 15,
   "id": "e18984d5",
   "metadata": {},
   "outputs": [
    {
     "name": "stdout",
     "output_type": "stream",
     "text": [
      "x1 dim:  1\n",
      "x1 shape:  (6,)\n",
      "x1 size:  6\n",
      "\n",
      "\n",
      "x2 dim:  2\n",
      "x2 shape:  (3, 4)\n",
      "x2 size:  12\n",
      "\n",
      "\n",
      "x3 dim:  3\n",
      "x3 shape:  (4, 5, 6)\n",
      "x3 size:  120\n"
     ]
    }
   ],
   "source": [
    "\n",
    "### khoi tao bo sinh so ngau nhien\n",
    "np.random.seed(15)\n",
    "\n",
    "x1 = np.random.randint(10, size=6) # mang 1 chieu\n",
    "x2 = np.random.randint(10, size=(3, 4)) # mang 2 chieu\n",
    "x3 = np.random.randint(10, size=(4, 5, 6)) #mang 3 chieu\n",
    "\n",
    "\n",
    "print(\"x1 dim: \", x1.ndim)\n",
    "print(\"x1 shape: \", x1.shape)\n",
    "print(\"x1 size: \", x1.size)\n",
    "print(\"\\n\")\n",
    "print(\"x2 dim: \", x2.ndim)\n",
    "print(\"x2 shape: \", x2.shape)\n",
    "print(\"x2 size: \", x2.size)\n",
    "print(\"\\n\")\n",
    "print(\"x3 dim: \", x3.ndim)\n",
    "print(\"x3 shape: \", x3.shape)\n",
    "print(\"x3 size: \", x3.size)"
   ]
  },
  {
   "cell_type": "code",
   "execution_count": 17,
   "id": "126079f5",
   "metadata": {},
   "outputs": [
    {
     "name": "stdout",
     "output_type": "stream",
     "text": [
      "[10 12 14 16 18]\n"
     ]
    }
   ],
   "source": [
    "## np.arrange : sinh chuoi \n",
    "f = np.arange(10, 20, 2)\n",
    "\n",
    "print(f)"
   ]
  },
  {
   "cell_type": "markdown",
   "id": "2a3e77df",
   "metadata": {},
   "source": [
    "### Accessing an element of a NumPy array\n",
    "truy cap vao cac phan tu trong array"
   ]
  },
  {
   "cell_type": "code",
   "execution_count": 22,
   "id": "5b783f46",
   "metadata": {},
   "outputs": [
    {
     "name": "stdout",
     "output_type": "stream",
     "text": [
      "1-d array [8 5 5 7 0 7]\n",
      "phan tu thu 3: 5\n",
      "phan tu cuoi: 7\n",
      "phan tu thu dua tien: 8\n"
     ]
    }
   ],
   "source": [
    "print(\"1-d array\", x1)\n",
    "\n",
    "print(f\"phan tu thu 3: {x1[2]}\")\n",
    "print(f\"phan tu cuoi: {x1[-1]}\")\n",
    "print(f\"phan tu thu dua tien: {x1[0]}\")"
   ]
  },
  {
   "cell_type": "code",
   "execution_count": 31,
   "id": "dc88b39a",
   "metadata": {},
   "outputs": [
    {
     "name": "stdout",
     "output_type": "stream",
     "text": [
      "2D array: \n",
      " [[5 6 1 7]\n",
      " [0 4 9 7]\n",
      " [5 3 6 8]]\n",
      "X2[0][0] = 5\n",
      "X2[2][1] = 3\n",
      "\n",
      "3D array: \n",
      " [[[2 1 1 0 5 2]\n",
      "  [2 1 8 5 6 9]\n",
      "  [2 8 6 8 8 3]\n",
      "  [4 7 2 0 5 7]\n",
      "  [3 8 5 3 1 0]]\n",
      "\n",
      " [[8 7 5 8 1 2]\n",
      "  [8 3 1 3 7 2]\n",
      "  [7 2 0 0 7 6]\n",
      "  [4 4 3 7 5 6]\n",
      "  [0 9 0 4 8 6]]\n",
      "\n",
      " [[3 2 7 4 2 2]\n",
      "  [9 3 3 4 3 5]\n",
      "  [3 0 0 6 1 2]\n",
      "  [2 1 4 7 8 7]\n",
      "  [2 5 3 8 9 4]]\n",
      "\n",
      " [[9 4 4 1 0 4]\n",
      "  [7 8 5 9 3 0]\n",
      "  [4 0 1 9 4 5]\n",
      "  [4 8 3 9 1 3]\n",
      "  [5 1 6 7 0 9]]]\n",
      "x3[2][[2][1]] = 0\n",
      "x3[0][[4][2]] = 5\n"
     ]
    }
   ],
   "source": [
    "print(\"2D array: \\n\", x2)\n",
    "print(f\"X2[0][0] = {x2[0, 0]}\")\n",
    "print(f\"X2[2][1] = {x2[2, 1]}\")\n",
    "\n",
    "print(\"\\n3D array: \\n\", x3)\n",
    "print(f\"x3[2][[2][1]] = {x3[2, 2, 1]}\")\n",
    "print(f\"x3[0][[4][2]] = {x3[0, 4, 2]}\")"
   ]
  },
  {
   "cell_type": "markdown",
   "id": "b72075ec",
   "metadata": {},
   "source": [
    "### Slicing in NumPy array"
   ]
  },
  {
   "cell_type": "code",
   "execution_count": 39,
   "id": "8ff6b08a",
   "metadata": {},
   "outputs": [
    {
     "name": "stdout",
     "output_type": "stream",
     "text": [
      "[0 1 2 3 4 5 6 7 8 9]\n",
      "first five element:  [0 1 2 3 4]\n",
      "element after index 5:  [5 6 7 8 9]\n",
      "middle sub-array:  [4 5 6]\n",
      "every other element:  [0 2 4 6 8]\n",
      "every other element, starting index 1:  [1 3 5 7 9]\n",
      "element reversed:  [9 8 7 6 5 4 3 2 1 0]\n"
     ]
    }
   ],
   "source": [
    "### 1D array\n",
    "\n",
    "x = np.arange(10)\n",
    "print(x)\n",
    "\n",
    "print(\"first five element: \", x[:5])\n",
    "print(\"element after index 5: \", x[5:])\n",
    "print(\"middle sub-array: \", x[4:7])\n",
    "print(\"every other element: \", x[::2])\n",
    "print(\"every other element, starting index 1: \", x[1::2])\n",
    "print(\"element reversed: \", x[::-1])"
   ]
  },
  {
   "cell_type": "code",
   "execution_count": 42,
   "id": "104a9287",
   "metadata": {},
   "outputs": [
    {
     "name": "stdout",
     "output_type": "stream",
     "text": [
      "[[5 6 1 7]\n",
      " [0 4 9 7]\n",
      " [5 3 6 8]]\n",
      "two rows, three columns: \n",
      " [[5 6 1]\n",
      " [0 4 9]]\n"
     ]
    }
   ],
   "source": [
    "## 2D array\n",
    "\n",
    "print(x2)\n",
    "print(\"two rows, three columns: \\n\", x2[:2, :3])"
   ]
  },
  {
   "cell_type": "code",
   "execution_count": 56,
   "id": "37d5b0d8",
   "metadata": {},
   "outputs": [
    {
     "name": "stdout",
     "output_type": "stream",
     "text": [
      "original 2D array: \n",
      " [[15  6  1  7]\n",
      " [ 0  4  9  7]\n",
      " [ 5  3  6  8]]\n",
      "sub-array: \n",
      " [[15  6]\n",
      " [ 0  4]]\n",
      "modified array: \n",
      " [[15  6]\n",
      " [ 0  4]]\n",
      "\n",
      "original array after sub-array changes:\n",
      " [[15  6  1  7]\n",
      " [ 0  4  9  7]\n",
      " [ 5  3  6  8]]\n",
      "\n",
      "making coy of the original array: \n",
      "\n",
      "[[15  6]\n",
      " [ 0  4]]\n",
      "modyfying x2:\n",
      " [[15  6  1  7]\n",
      " [ 0  4  9  7]\n",
      " [ 5  3  6  8]]\n"
     ]
    }
   ],
   "source": [
    "## copy fuction\n",
    "\n",
    "### original array\n",
    "print(\"original 2D array: \\n\", x2)\n",
    "\n",
    "### copy mang 2x2 tu x2\n",
    "x2_sub = x2[:2, :2]\n",
    "print(\"sub-array: \\n\", x2_sub)\n",
    "\n",
    "## thay doi gia tri\n",
    "x2_sub[0, 0] = 15\n",
    "print(\"modified array: \\n\", x2_sub)\n",
    "\n",
    "### original array after sub-array changes\n",
    "print(\"\\noriginal array after sub-array changes:\\n\", x2)\n",
    "print(\"\\nmaking coy of the original array: \\n\")\n",
    "x2_sub_cp = x2[:2, :2].copy()\n",
    "print(x2_sub_cp)\n",
    "\n",
    "\n",
    "## thay doi gia tri\n",
    "\n",
    "x2_sub_cp[0, 0] = 22\n",
    "print(\"modyfying x2:\\n\", x2)"
   ]
  },
  {
   "cell_type": "markdown",
   "id": "0db711a4",
   "metadata": {},
   "source": [
    "### Array concatenation"
   ]
  },
  {
   "cell_type": "code",
   "execution_count": 57,
   "id": "7adc105c",
   "metadata": {},
   "outputs": [
    {
     "data": {
      "text/plain": [
       "array([1, 2, 3, 3, 2, 1])"
      ]
     },
     "execution_count": 57,
     "metadata": {},
     "output_type": "execute_result"
    }
   ],
   "source": [
    "## creating two sample array\n",
    "x = np.array([1, 2, 3])\n",
    "y = np.array([3, 2, 1])\n",
    "\n",
    "np.concatenate([x, y])"
   ]
  },
  {
   "cell_type": "code",
   "execution_count": 58,
   "id": "49d3abc5",
   "metadata": {},
   "outputs": [
    {
     "data": {
      "text/plain": [
       "array([[1, 2, 3],\n",
       "       [3, 4, 5],\n",
       "       [7, 8, 9]])"
      ]
     },
     "execution_count": 58,
     "metadata": {},
     "output_type": "execute_result"
    }
   ],
   "source": [
    "## create a sample array\n",
    "x = np.array([1, 2, 3])\n",
    "grid = np.array([[3, 4, 5],\n",
    "                [7, 8, 9]])\n",
    "np.vstack([x, grid])"
   ]
  },
  {
   "cell_type": "code",
   "execution_count": 59,
   "id": "78f638d7",
   "metadata": {},
   "outputs": [
    {
     "data": {
      "text/plain": [
       "array([[ 3,  4,  5, 99],\n",
       "       [ 7,  8,  9, 99]])"
      ]
     },
     "execution_count": 59,
     "metadata": {},
     "output_type": "execute_result"
    }
   ],
   "source": [
    "### horizontally stack the arrays\n",
    "\n",
    "y = np.array([[99],\n",
    "             [99]])\n",
    "\n",
    "np.hstack([grid, y])"
   ]
  },
  {
   "cell_type": "markdown",
   "id": "3ef8c672",
   "metadata": {},
   "source": []
  },
  {
   "cell_type": "code",
   "execution_count": null,
   "id": "fd1bbb41",
   "metadata": {},
   "outputs": [],
   "source": []
  },
  {
   "cell_type": "code",
   "execution_count": null,
   "id": "71c0f4f0",
   "metadata": {},
   "outputs": [],
   "source": []
  },
  {
   "cell_type": "code",
   "execution_count": null,
   "id": "670af4a6",
   "metadata": {},
   "outputs": [],
   "source": []
  },
  {
   "cell_type": "code",
   "execution_count": null,
   "id": "49e9cd85",
   "metadata": {},
   "outputs": [],
   "source": []
  },
  {
   "cell_type": "code",
   "execution_count": null,
   "id": "687c4235",
   "metadata": {},
   "outputs": [],
   "source": []
  },
  {
   "cell_type": "code",
   "execution_count": null,
   "id": "ec308c28",
   "metadata": {},
   "outputs": [],
   "source": []
  },
  {
   "cell_type": "code",
   "execution_count": null,
   "id": "7e839827",
   "metadata": {},
   "outputs": [],
   "source": []
  },
  {
   "cell_type": "code",
   "execution_count": null,
   "id": "68763f82",
   "metadata": {},
   "outputs": [],
   "source": []
  }
 ],
 "metadata": {
  "kernelspec": {
   "display_name": "Python 3 (ipykernel)",
   "language": "python",
   "name": "python3"
  },
  "language_info": {
   "codemirror_mode": {
    "name": "ipython",
    "version": 3
   },
   "file_extension": ".py",
   "mimetype": "text/x-python",
   "name": "python",
   "nbconvert_exporter": "python",
   "pygments_lexer": "ipython3",
   "version": "3.9.12"
  }
 },
 "nbformat": 4,
 "nbformat_minor": 5
}
